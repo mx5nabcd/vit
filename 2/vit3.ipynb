{
 "cells": [
  {
   "cell_type": "code",
   "execution_count": 1,
   "id": "fb069f4f-a8df-4e73-8e52-7da47139bcbe",
   "metadata": {},
   "outputs": [],
   "source": [
    "import os\n",
    "import argparse\n",
    "\n",
    "import datetime\n",
    "\n",
    "import numpy as np\n",
    "\n",
    "from dataset.dataset_getter import DatasetGetter\n",
    "from vision_transformer.models import ViT\n",
    "from vision_transformer.learner import ViTLearner\n",
    "from utils.torch import get_device, save_model, load_model\n",
    "from utils.log import TensorboardLogger\n",
    "from utils.config import save_yaml, load_from_yaml\n",
    "\n",
    "import torch"
   ]
  },
  {
   "cell_type": "code",
   "execution_count": 7,
   "id": "de5ae9af-202a-4b9e-9d55-bb07767aba8c",
   "metadata": {},
   "outputs": [],
   "source": [
    "device = get_device(\"cpu\")\n",
    "\n",
    "# Getting Dataset\n",
    "# dataset = DatasetGetter.get_dataset(\n",
    "#     dataset_name=\"cifar100\", path=\"data/\", is_train=not False\n",
    "# )\n",
    "# dataset_loader = DatasetGetter.get_dataset_loader(\n",
    "#     dataset=dataset, batch_size=1 if False else 128\n",
    "# )\n",
    "\n",
    "# sampled_data = next(iter(dataset_loader))[0].to(device)\n",
    "\n",
    "# torch.save(sampled_data,'sampled_data.pth')\n",
    "sampled_data = torch.load('sampled_data.pth')\n",
    "\n",
    "n_channel, image_size = sampled_data.size()[1:3]"
   ]
  },
  {
   "cell_type": "code",
   "execution_count": 4,
   "id": "3af5516e-06c0-4510-bb4c-b28024dd8e9f",
   "metadata": {},
   "outputs": [],
   "source": [
    "model = ViT(\n",
    "    image_size=32,\n",
    "    n_channel=3,\n",
    "    n_patch=16,\n",
    "    n_dim=768,\n",
    "    n_encoder_blocks=12,\n",
    "    n_heads=12,\n",
    "    n_classes=100,\n",
    "    use_cnn_embedding=True,\n",
    ")"
   ]
  },
  {
   "cell_type": "code",
   "execution_count": 11,
   "id": "934300ef-f894-4c0b-8b22-a435fc1df6e6",
   "metadata": {},
   "outputs": [
    {
     "name": "stdout",
     "output_type": "stream",
     "text": [
      "torch.Size([128, 3, 32, 32])\n",
      "torch.Size([128, 5, 768])\n",
      "torch.Size([128, 5, 768])\n",
      "torch.Size([128, 100])\n"
     ]
    },
    {
     "data": {
      "text/plain": [
       "torch.Size([128, 100])"
      ]
     },
     "execution_count": 11,
     "metadata": {},
     "output_type": "execute_result"
    }
   ],
   "source": [
    "model(sampled_data).shape"
   ]
  },
  {
   "cell_type": "code",
   "execution_count": null,
   "id": "a1e4398f-7b45-4064-9fff-dd08c889bbed",
   "metadata": {},
   "outputs": [],
   "source": []
  }
 ],
 "metadata": {
  "kernelspec": {
   "display_name": "Python 3 (ipykernel)",
   "language": "python",
   "name": "python3"
  },
  "language_info": {
   "codemirror_mode": {
    "name": "ipython",
    "version": 3
   },
   "file_extension": ".py",
   "mimetype": "text/x-python",
   "name": "python",
   "nbconvert_exporter": "python",
   "pygments_lexer": "ipython3",
   "version": "3.8.19"
  }
 },
 "nbformat": 4,
 "nbformat_minor": 5
}
